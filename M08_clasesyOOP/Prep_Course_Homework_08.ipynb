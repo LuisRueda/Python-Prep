{
 "cells": [
  {
   "attachments": {},
   "cell_type": "markdown",
   "metadata": {},
   "source": [
    "## Clases y Programación Orientada a Objetos"
   ]
  },
  {
   "attachments": {},
   "cell_type": "markdown",
   "metadata": {},
   "source": [
    "1) Crear la clase vehículo que contenga los atributos:<br>\n",
    "Color<br>\n",
    "Si es moto, auto, camioneta ó camión<br>\n",
    "Cilindrada del motor"
   ]
  },
  {
   "cell_type": "code",
   "execution_count": 5,
   "metadata": {},
   "outputs": [],
   "source": [
    "class Vehiculo:\n",
    "\n",
    "    def __init__(self,tipo,cilindraje,placa):\n",
    "        self.tipo = tipo\n",
    "        self.cilindraje = cilindraje\n",
    "        self.placa = placa\n",
    "    \n",
    "    def presentar(self):\n",
    "        return print('Tipo:',self.tipo,'Cilindraje',self.cilindraje,'placa',self.placa)"
   ]
  },
  {
   "attachments": {},
   "cell_type": "markdown",
   "metadata": {},
   "source": [
    "2) A la clase Vehiculo creada en el punto 1, agregar los siguientes métodos:<br>\n",
    "Acelerar<br>\n",
    "Frenar<br>\n",
    "Doblar<br>"
   ]
  },
  {
   "cell_type": "code",
   "execution_count": 6,
   "metadata": {},
   "outputs": [],
   "source": [
    "class Vehiculo:\n",
    "\n",
    "    def __init__(self,tipo,cilindraje,placa):\n",
    "        self.tipo = tipo\n",
    "        self.cilindraje = cilindraje\n",
    "        self.placa = placa\n",
    "        self.velocidad = 0\n",
    "        self.direccion = 0\n",
    "    \n",
    "    def presentar(self):\n",
    "        return print('Tipo:',self.tipo,'Cilindraje',self.cilindraje,'placa',self.placa)\n",
    "    \n",
    "    def acelerar(self, vel):\n",
    "        self.velocidad+=vel\n",
    "\n",
    "    def frenar(self, vel):\n",
    "        if vel<self.velocidad:\n",
    "            self.velocidad-=vel\n",
    "        else:\n",
    "            self.velocidad=0\n",
    "\n",
    "    def doblar(self, grados):\n",
    "        self.direccion+=grados\n",
    "    \n",
    "    def status(self):\n",
    "        print('El carro de tipo',self.tipo,'de cilindraje',self.cilindraje,'con placa',self.placa,'tiene un velocidad de',self.velocidad,'km/h en direccion',self.direccion,'°')"
   ]
  },
  {
   "attachments": {},
   "cell_type": "markdown",
   "metadata": {},
   "source": [
    "3) Instanciar 3 objetos de la clase vehículo y ejecutar sus métodos, probar luego el resultado"
   ]
  },
  {
   "cell_type": "code",
   "execution_count": 7,
   "metadata": {},
   "outputs": [
    {
     "name": "stdout",
     "output_type": "stream",
     "text": [
      "El carro de tipo camion de cilindraje 2500 con placa XLJ754 tiene un velocidad de 50 km/h en direccion 50 °\n",
      "El carro de tipo automovil de cilindraje 1600 con placa XLJ755 tiene un velocidad de 80 km/h en direccion 80 °\n",
      "El carro de tipo moto de cilindraje 500 con placa XLJ756 tiene un velocidad de 100 km/h en direccion 100 °\n"
     ]
    }
   ],
   "source": [
    "camion = Vehiculo('camion', 2500, 'XLJ754')\n",
    "automovil = Vehiculo('automovil', 1600, 'XLJ755')\n",
    "moto = Vehiculo('moto', 500, 'XLJ756')\n",
    "\n",
    "camion.acelerar(50)\n",
    "automovil.acelerar(80)\n",
    "moto.acelerar(100)\n",
    "\n",
    "camion.doblar(50)\n",
    "automovil.doblar(80)\n",
    "moto.doblar(100)\n",
    "\n",
    "camion.status()\n",
    "automovil.status()\n",
    "moto.status()\n"
   ]
  },
  {
   "cell_type": "code",
   "execution_count": 8,
   "metadata": {},
   "outputs": [
    {
     "name": "stdout",
     "output_type": "stream",
     "text": [
      "El carro de tipo camion de cilindraje 2500 con placa XLJ754 tiene un velocidad de 25 km/h en direccion 50 °\n",
      "El carro de tipo automovil de cilindraje 1600 con placa XLJ755 tiene un velocidad de 40 km/h en direccion 80 °\n",
      "El carro de tipo moto de cilindraje 500 con placa XLJ756 tiene un velocidad de 50 km/h en direccion 100 °\n"
     ]
    }
   ],
   "source": [
    "camion.frenar(25)\n",
    "automovil.frenar(40)\n",
    "moto.frenar(50)\n",
    "\n",
    "camion.status()\n",
    "automovil.status()\n",
    "moto.status()"
   ]
  },
  {
   "cell_type": "code",
   "execution_count": 9,
   "metadata": {},
   "outputs": [
    {
     "name": "stdout",
     "output_type": "stream",
     "text": [
      "El carro de tipo camion de cilindraje 2500 con placa XLJ754 tiene un velocidad de 25 km/h en direccion 30 °\n",
      "El carro de tipo automovil de cilindraje 1600 con placa XLJ755 tiene un velocidad de 40 km/h en direccion 60 °\n",
      "El carro de tipo moto de cilindraje 500 con placa XLJ756 tiene un velocidad de 50 km/h en direccion 80 °\n"
     ]
    }
   ],
   "source": [
    "camion.doblar(-20)\n",
    "automovil.doblar(-20)\n",
    "moto.doblar(-20)\n",
    "\n",
    "camion.status()\n",
    "automovil.status()\n",
    "moto.status()"
   ]
  },
  {
   "attachments": {},
   "cell_type": "markdown",
   "metadata": {},
   "source": [
    "4) Agregar a la clase Vehiculo, un método que muestre su estado, es decir, a que velocidad se encuentra y su dirección. Y otro método que muestre color, tipo y cilindrada"
   ]
  },
  {
   "cell_type": "code",
   "execution_count": 10,
   "metadata": {},
   "outputs": [],
   "source": [
    "class Vehiculo:\n",
    "\n",
    "    def __init__(self,tipo,cilindraje,placa,color):\n",
    "        self.tipo = tipo\n",
    "        self.cilindraje = cilindraje\n",
    "        self.placa = placa\n",
    "        self.color = color\n",
    "        self.velocidad = 0\n",
    "        self.direccion = 0\n",
    "    \n",
    "    def presentar(self):\n",
    "        return print('Tipo:',self.tipo,'Cilindraje',self.cilindraje,'placa',self.placa)\n",
    "    \n",
    "    def acelerar(self, vel):\n",
    "        self.velocidad+=vel\n",
    "\n",
    "    def frenar(self, vel):\n",
    "        if vel<self.velocidad:\n",
    "            self.velocidad-=vel\n",
    "        else:\n",
    "            self.velocidad=0\n",
    "\n",
    "    def doblar(self, grados):\n",
    "        self.direccion+=grados\n",
    "    \n",
    "    def status(self):\n",
    "        print('El carro de tipo',self.tipo,'de cilindraje',self.cilindraje,'con placa',self.placa,'de color',self.color,'tiene un velocidad de',self.velocidad,'km/h en direccion',self.direccion,'°')"
   ]
  },
  {
   "cell_type": "code",
   "execution_count": 11,
   "metadata": {},
   "outputs": [
    {
     "name": "stdout",
     "output_type": "stream",
     "text": [
      "El carro de tipo camion de cilindraje 2500 con placa XLJ754 de color Blanco tiene un velocidad de 50 km/h en direccion 50 °\n",
      "El carro de tipo automovil de cilindraje 1600 con placa XLJ755 de color gris tiene un velocidad de 80 km/h en direccion 80 °\n",
      "El carro de tipo moto de cilindraje 500 con placa XLJ756 de color azul tiene un velocidad de 100 km/h en direccion 100 °\n"
     ]
    }
   ],
   "source": [
    "camion = Vehiculo('camion', 2500, 'XLJ754', 'Blanco')\n",
    "automovil = Vehiculo('automovil', 1600, 'XLJ755','gris')\n",
    "moto = Vehiculo('moto', 500, 'XLJ756','azul')\n",
    "\n",
    "camion.acelerar(50)\n",
    "automovil.acelerar(80)\n",
    "moto.acelerar(100)\n",
    "\n",
    "camion.doblar(50)\n",
    "automovil.doblar(80)\n",
    "moto.doblar(100)\n",
    "\n",
    "camion.status()\n",
    "automovil.status()\n",
    "moto.status()"
   ]
  },
  {
   "attachments": {},
   "cell_type": "markdown",
   "metadata": {},
   "source": [
    "5) Crear una clase que permita utilizar las funciones creadas en la práctica del módulo 7<br>\n",
    "Verificar Primo<br>\n",
    "Valor modal<br>\n",
    "Conversión grados<br>\n",
    "Factorial<br>"
   ]
  },
  {
   "cell_type": "code",
   "execution_count": 12,
   "metadata": {},
   "outputs": [],
   "source": [
    "class Herramientas:\n",
    "\n",
    "    def __init__(self) -> None:\n",
    "        pass\n",
    "\n",
    "    def verificar_primo(self,numero):\n",
    "        primo=True\n",
    "        for i in range(2,numero):\n",
    "            if numero%i==0:\n",
    "                primo=False\n",
    "                break\n",
    "        if primo==True:\n",
    "            return True\n",
    "        else:\n",
    "            return False\n",
    "        \n",
    "    def valor_modal(self,lista):\n",
    "        Cuenta=0\n",
    "        Numero=None\n",
    "        for i in lista:\n",
    "            cuenta_Temp=lista.count(i)\n",
    "            if cuenta_Temp>Cuenta:\n",
    "                Cuenta=cuenta_Temp\n",
    "                Numero=i\n",
    "        return Numero, Cuenta\n",
    "    \n",
    "    __celsius2farenheit = lambda self, x: (x*(9/5)) + 32\n",
    "    __celsius2kelvin = lambda self, x: x + 273.15\n",
    "    __farenheit2celsius = lambda self, x: (x-32)*(5/9)\n",
    "    __kelvin2celsius = lambda self, x: x-273.15\n",
    "    \n",
    "    def convert_temperaturas (self,medida,escala_orig,escala_des):\n",
    "        if escala_orig=='C' and escala_des=='F':\n",
    "            return self.__celsius2farenheit(medida)\n",
    "        elif escala_orig=='C' and escala_des=='K':\n",
    "            return self.__celsius2kelvin(medida)\n",
    "        elif escala_orig=='F' and escala_des=='C':\n",
    "            return self.__farenheit2celsius(medida)\n",
    "        elif escala_orig=='K' and escala_des=='C':\n",
    "            return self.__kelvin2celsius(medida)\n",
    "        elif escala_orig=='K' and escala_des=='F':\n",
    "            return self.__celsius2farenheit(self.__kelvin2celsius(medida))\n",
    "        elif escala_orig=='F' and escala_des=='K':\n",
    "            return self.__kelvin2celsius(self.__celsius2farenheit(medida))\n",
    "        elif escala_orig==escala_des:\n",
    "            return medida\n",
    "        else:\n",
    "            return 'Escoja una opción valida'\n",
    "    def factorial (self,numero):\n",
    "        if numero>1:\n",
    "            resultado=numero*self.factorial(numero-1)\n",
    "            return resultado\n",
    "        else:\n",
    "            return 1"
   ]
  },
  {
   "attachments": {},
   "cell_type": "markdown",
   "metadata": {},
   "source": [
    "6) Probar las funciones incorporadas en la clase del punto 5"
   ]
  },
  {
   "cell_type": "code",
   "execution_count": 13,
   "metadata": {},
   "outputs": [
    {
     "data": {
      "text/plain": [
       "True"
      ]
     },
     "execution_count": 13,
     "metadata": {},
     "output_type": "execute_result"
    }
   ],
   "source": [
    "tools = Herramientas()\n",
    "tools.verificar_primo(11)"
   ]
  },
  {
   "cell_type": "code",
   "execution_count": 14,
   "metadata": {},
   "outputs": [
    {
     "data": {
      "text/plain": [
       "(7, 5)"
      ]
     },
     "execution_count": 14,
     "metadata": {},
     "output_type": "execute_result"
    }
   ],
   "source": [
    "#modal\n",
    "lista=[1,2,3,4,5,6,7,8,9,7,5,4,6,7,9,8,7,2,3,7]\n",
    "tools.valor_modal(lista)"
   ]
  },
  {
   "cell_type": "code",
   "execution_count": 15,
   "metadata": {},
   "outputs": [
    {
     "data": {
      "text/plain": [
       "274.15"
      ]
     },
     "execution_count": 15,
     "metadata": {},
     "output_type": "execute_result"
    }
   ],
   "source": [
    "#grados\n",
    "medida=1\n",
    "origen='C'\n",
    "destino='K'\n",
    "tools.convert_temperaturas(medida,origen,destino)"
   ]
  },
  {
   "cell_type": "code",
   "execution_count": 16,
   "metadata": {},
   "outputs": [
    {
     "data": {
      "text/plain": [
       "120"
      ]
     },
     "execution_count": 16,
     "metadata": {},
     "output_type": "execute_result"
    }
   ],
   "source": [
    "#factorial\n",
    "tools.factorial(5)"
   ]
  },
  {
   "attachments": {},
   "cell_type": "markdown",
   "metadata": {},
   "source": [
    "7) Es necesario que la clase creada en el punto 5 contenga una lista, sobre la cual se apliquen las funciones incorporadas"
   ]
  },
  {
   "cell_type": "code",
   "execution_count": 17,
   "metadata": {},
   "outputs": [],
   "source": [
    "class Herramientas:\n",
    "\n",
    "    def __init__(self, lista):\n",
    "        self.lista = lista\n",
    "\n",
    "    def __verificar_primo(self,numero):\n",
    "        primo=True\n",
    "        for i in range(2,numero):\n",
    "            if numero%i==0:\n",
    "                primo=False\n",
    "                break\n",
    "        if primo==True:\n",
    "            return True\n",
    "        else:\n",
    "            return False\n",
    "        \n",
    "    def __valor_modal(self,lista):\n",
    "        Cuenta=0\n",
    "        Numero=None\n",
    "        for i in lista:\n",
    "            cuenta_Temp=lista.count(i)\n",
    "            if cuenta_Temp>Cuenta:\n",
    "                Cuenta=cuenta_Temp\n",
    "                Numero=i\n",
    "        return Numero, Cuenta\n",
    "    \n",
    "    __celsius2farenheit = lambda self, x: (x*(9/5)) + 32\n",
    "    __celsius2kelvin = lambda self, x: x + 273.15\n",
    "    __farenheit2celsius = lambda self, x: (x-32)*(5/9)\n",
    "    __kelvin2celsius = lambda self, x: x-273.15\n",
    "    \n",
    "    def __convert_temperaturas (self,medida,escala_orig,escala_des):\n",
    "        if escala_orig=='C' and escala_des=='F':\n",
    "            return self.__celsius2farenheit(medida)\n",
    "        elif escala_orig=='C' and escala_des=='K':\n",
    "            return self.__celsius2kelvin(medida)\n",
    "        elif escala_orig=='F' and escala_des=='C':\n",
    "            return self.__farenheit2celsius(medida)\n",
    "        elif escala_orig=='K' and escala_des=='C':\n",
    "            return self.__kelvin2celsius(medida)\n",
    "        elif escala_orig=='K' and escala_des=='F':\n",
    "            return self.__celsius2farenheit(self.__kelvin2celsius(medida))\n",
    "        elif escala_orig=='F' and escala_des=='K':\n",
    "            return self.__kelvin2celsius(self.__celsius2farenheit(medida))\n",
    "        elif escala_orig==escala_des:\n",
    "            return medida\n",
    "        else:\n",
    "            return 'Escoja una opción valida'\n",
    "    def __factorial (self,numero):\n",
    "        if numero>1:\n",
    "            resultado=numero*self.__factorial(numero-1)\n",
    "            return resultado\n",
    "        else:\n",
    "            return 1\n",
    "    #primos\n",
    "    def validar_primos (self):\n",
    "        for i in self.lista:\n",
    "            if self.__verificar_primo(i)==True:\n",
    "                print('El numero',i,'es primo')\n",
    "            else:\n",
    "                print('El numero',i,'no es primo')\n",
    "    #modal\n",
    "    def validar_modal (self):\n",
    "        numero, cuenta = self.__valor_modal(self.lista)\n",
    "        print ('El número', numero, 'es el que mas se repite con un total de', cuenta,'veces')\n",
    "    \n",
    "    #grados\n",
    "    def __escoger_nombre_temperatura(self,opcion):\n",
    "        nombres = ('Celsius', 'Farenheit', 'Kelvin')\n",
    "        if opcion=='C':\n",
    "            return 'Celsius'\n",
    "        elif opcion=='F':\n",
    "            return 'Farenheit'\n",
    "        elif opcion=='K':\n",
    "            return 'Kelvin'\n",
    "        else:\n",
    "            return None\n",
    "\n",
    "    def validar_conversion(self,origen,destino):\n",
    "        nombre_origen=self.__escoger_nombre_temperatura(origen)\n",
    "        nombre_destino=self.__escoger_nombre_temperatura(destino)\n",
    "        \n",
    "        for i in self.lista:\n",
    "            print('El valor para una temperatura de {0} {1} a {2} es: {3:.2f} {2}'.format(i,nombre_origen,nombre_destino,self.__convert_temperaturas(i,origen,destino)))\n",
    "\n",
    "    #factorial\n",
    "    def validar_factorial(self):\n",
    "        for i in self.lista:\n",
    "            print('El factorial de',i,'es:',self.__factorial(i))"
   ]
  },
  {
   "cell_type": "code",
   "execution_count": 18,
   "metadata": {},
   "outputs": [
    {
     "name": "stdout",
     "output_type": "stream",
     "text": [
      "El numero 1 es primo\n",
      "El numero 2 es primo\n",
      "El numero 3 es primo\n",
      "El numero 4 no es primo\n",
      "El numero 5 es primo\n",
      "El numero 6 no es primo\n",
      "El numero 7 es primo\n",
      "El numero 8 no es primo\n",
      "El numero 9 no es primo\n",
      "El numero 7 es primo\n",
      "El numero 5 es primo\n",
      "El numero 4 no es primo\n",
      "El numero 6 no es primo\n",
      "El numero 7 es primo\n",
      "El numero 9 no es primo\n",
      "El numero 8 no es primo\n",
      "El numero 7 es primo\n",
      "El numero 2 es primo\n",
      "El numero 3 es primo\n",
      "El numero 7 es primo\n"
     ]
    }
   ],
   "source": [
    "lista=[1,2,3,4,5,6,7,8,9,7,5,4,6,7,9,8,7,2,3,7]\n",
    "tools = Herramientas(lista)\n",
    "tools.validar_primos()\n"
   ]
  },
  {
   "cell_type": "code",
   "execution_count": 19,
   "metadata": {},
   "outputs": [
    {
     "name": "stdout",
     "output_type": "stream",
     "text": [
      "El número 7 es el que mas se repite con un total de 5 veces\n"
     ]
    }
   ],
   "source": [
    "tools.validar_modal()"
   ]
  },
  {
   "cell_type": "code",
   "execution_count": 20,
   "metadata": {},
   "outputs": [
    {
     "name": "stdout",
     "output_type": "stream",
     "text": [
      "El valor para una temperatura de 1 Celsius a Kelvin es: 274.15 Kelvin\n",
      "El valor para una temperatura de 2 Celsius a Kelvin es: 275.15 Kelvin\n",
      "El valor para una temperatura de 3 Celsius a Kelvin es: 276.15 Kelvin\n",
      "El valor para una temperatura de 4 Celsius a Kelvin es: 277.15 Kelvin\n",
      "El valor para una temperatura de 5 Celsius a Kelvin es: 278.15 Kelvin\n",
      "El valor para una temperatura de 6 Celsius a Kelvin es: 279.15 Kelvin\n",
      "El valor para una temperatura de 7 Celsius a Kelvin es: 280.15 Kelvin\n",
      "El valor para una temperatura de 8 Celsius a Kelvin es: 281.15 Kelvin\n",
      "El valor para una temperatura de 9 Celsius a Kelvin es: 282.15 Kelvin\n",
      "El valor para una temperatura de 7 Celsius a Kelvin es: 280.15 Kelvin\n",
      "El valor para una temperatura de 5 Celsius a Kelvin es: 278.15 Kelvin\n",
      "El valor para una temperatura de 4 Celsius a Kelvin es: 277.15 Kelvin\n",
      "El valor para una temperatura de 6 Celsius a Kelvin es: 279.15 Kelvin\n",
      "El valor para una temperatura de 7 Celsius a Kelvin es: 280.15 Kelvin\n",
      "El valor para una temperatura de 9 Celsius a Kelvin es: 282.15 Kelvin\n",
      "El valor para una temperatura de 8 Celsius a Kelvin es: 281.15 Kelvin\n",
      "El valor para una temperatura de 7 Celsius a Kelvin es: 280.15 Kelvin\n",
      "El valor para una temperatura de 2 Celsius a Kelvin es: 275.15 Kelvin\n",
      "El valor para una temperatura de 3 Celsius a Kelvin es: 276.15 Kelvin\n",
      "El valor para una temperatura de 7 Celsius a Kelvin es: 280.15 Kelvin\n"
     ]
    }
   ],
   "source": [
    "tools.validar_conversion('C','K')"
   ]
  },
  {
   "cell_type": "code",
   "execution_count": 21,
   "metadata": {},
   "outputs": [
    {
     "name": "stdout",
     "output_type": "stream",
     "text": [
      "El factorial de 1 es: 1\n",
      "El factorial de 2 es: 2\n",
      "El factorial de 3 es: 6\n",
      "El factorial de 4 es: 24\n",
      "El factorial de 5 es: 120\n",
      "El factorial de 6 es: 720\n",
      "El factorial de 7 es: 5040\n",
      "El factorial de 8 es: 40320\n",
      "El factorial de 9 es: 362880\n",
      "El factorial de 7 es: 5040\n",
      "El factorial de 5 es: 120\n",
      "El factorial de 4 es: 24\n",
      "El factorial de 6 es: 720\n",
      "El factorial de 7 es: 5040\n",
      "El factorial de 9 es: 362880\n",
      "El factorial de 8 es: 40320\n",
      "El factorial de 7 es: 5040\n",
      "El factorial de 2 es: 2\n",
      "El factorial de 3 es: 6\n",
      "El factorial de 7 es: 5040\n"
     ]
    }
   ],
   "source": [
    "tools.validar_factorial()"
   ]
  },
  {
   "attachments": {},
   "cell_type": "markdown",
   "metadata": {},
   "source": [
    "8) Crear un archivo .py aparte y ubicar allí la clase generada en el punto anterior. Luego realizar la importación del módulo y probar alguna de sus funciones"
   ]
  },
  {
   "cell_type": "code",
   "execution_count": 22,
   "metadata": {},
   "outputs": [
    {
     "name": "stdout",
     "output_type": "stream",
     "text": [
      "c:\\Users\\Luisr\\OneDrive\\Desktop\\Python-Prep\\M08_clasesyOOP\n",
      "c:\\Users\\Luisr\\AppData\\Local\\Programs\\Python\\Python311\\python311.zip\n",
      "c:\\Users\\Luisr\\AppData\\Local\\Programs\\Python\\Python311\\DLLs\n",
      "c:\\Users\\Luisr\\AppData\\Local\\Programs\\Python\\Python311\\Lib\n",
      "c:\\Users\\Luisr\\AppData\\Local\\Programs\\Python\\Python311\n",
      "\n",
      "c:\\Users\\Luisr\\AppData\\Local\\Programs\\Python\\Python311\\Lib\\site-packages\n",
      "c:\\Users\\Luisr\\AppData\\Local\\Programs\\Python\\Python311\\Lib\\site-packages\\win32\n",
      "c:\\Users\\Luisr\\AppData\\Local\\Programs\\Python\\Python311\\Lib\\site-packages\\win32\\lib\n",
      "c:\\Users\\Luisr\\AppData\\Local\\Programs\\Python\\Python311\\Lib\\site-packages\\Pythonwin\n",
      "..\n"
     ]
    }
   ],
   "source": [
    "import sys\n",
    "\n",
    "for p in sys.path:\n",
    "    print(p)"
   ]
  },
  {
   "cell_type": "code",
   "execution_count": 23,
   "metadata": {},
   "outputs": [
    {
     "name": "stdout",
     "output_type": "stream",
     "text": [
      "c:\\Users\\Luisr\\OneDrive\\Desktop\\Python-Prep\\M08_clasesyOOP\n",
      "c:\\Users\\Luisr\\AppData\\Local\\Programs\\Python\\Python311\\python311.zip\n",
      "c:\\Users\\Luisr\\AppData\\Local\\Programs\\Python\\Python311\\DLLs\n",
      "c:\\Users\\Luisr\\AppData\\Local\\Programs\\Python\\Python311\\Lib\n",
      "c:\\Users\\Luisr\\AppData\\Local\\Programs\\Python\\Python311\n",
      "\n",
      "c:\\Users\\Luisr\\AppData\\Local\\Programs\\Python\\Python311\\Lib\\site-packages\n",
      "c:\\Users\\Luisr\\AppData\\Local\\Programs\\Python\\Python311\\Lib\\site-packages\\win32\n",
      "c:\\Users\\Luisr\\AppData\\Local\\Programs\\Python\\Python311\\Lib\\site-packages\\win32\\lib\n",
      "c:\\Users\\Luisr\\AppData\\Local\\Programs\\Python\\Python311\\Lib\\site-packages\\Pythonwin\n",
      "..\n",
      "..\n"
     ]
    }
   ],
   "source": [
    "import sys\n",
    "#sys.path.append('c:/Users/Luisr/OneDrive/Desktop/Python-Prep')\n",
    "sys.path.append(r'..')\n",
    "for p in sys.path:\n",
    "    print(p)"
   ]
  },
  {
   "cell_type": "code",
   "execution_count": 24,
   "metadata": {},
   "outputs": [
    {
     "name": "stdout",
     "output_type": "stream",
     "text": [
      "Help on built-in function append:\n",
      "\n",
      "append(object, /) method of builtins.list instance\n",
      "    Append object to the end of the list.\n",
      "\n"
     ]
    }
   ],
   "source": [
    "help(sys.path.append)"
   ]
  },
  {
   "cell_type": "code",
   "execution_count": 31,
   "metadata": {},
   "outputs": [],
   "source": [
    "from MisModulos.Herramientas import HerramientasImp\n",
    "#from MisModulosOut.Herramientas import HerramientasImp\n",
    "\n",
    "\n",
    "lista=[1,2,3,4,5,6,7,8,9,7,5,4,6,7,9,8,7,2,3,7]\n",
    "toolimport = HerramientasImp(lista)"
   ]
  },
  {
   "cell_type": "code",
   "execution_count": 26,
   "metadata": {},
   "outputs": [
    {
     "name": "stdout",
     "output_type": "stream",
     "text": [
      "El numero 1 es primo\n",
      "El numero 2 es primo\n",
      "El numero 3 es primo\n",
      "El numero 4 no es primo\n",
      "El numero 5 es primo\n",
      "El numero 6 no es primo\n",
      "El numero 7 es primo\n",
      "El numero 8 no es primo\n",
      "El numero 9 no es primo\n",
      "El numero 7 es primo\n",
      "El numero 5 es primo\n",
      "El numero 4 no es primo\n",
      "El numero 6 no es primo\n",
      "El numero 7 es primo\n",
      "El numero 9 no es primo\n",
      "El numero 8 no es primo\n",
      "El numero 7 es primo\n",
      "El numero 2 es primo\n",
      "El numero 3 es primo\n",
      "El numero 7 es primo\n"
     ]
    }
   ],
   "source": [
    "toolimport.validar_primos()"
   ]
  },
  {
   "cell_type": "code",
   "execution_count": 27,
   "metadata": {},
   "outputs": [
    {
     "name": "stdout",
     "output_type": "stream",
     "text": [
      "El número 7 es el que mas se repite con un total de 5 veces\n"
     ]
    }
   ],
   "source": [
    "toolimport.validar_modal()"
   ]
  },
  {
   "cell_type": "code",
   "execution_count": 28,
   "metadata": {},
   "outputs": [
    {
     "name": "stdout",
     "output_type": "stream",
     "text": [
      "El valor para una temperatura de 1 Celsius a Kelvin es: 274.15 Kelvin\n",
      "El valor para una temperatura de 2 Celsius a Kelvin es: 275.15 Kelvin\n",
      "El valor para una temperatura de 3 Celsius a Kelvin es: 276.15 Kelvin\n",
      "El valor para una temperatura de 4 Celsius a Kelvin es: 277.15 Kelvin\n",
      "El valor para una temperatura de 5 Celsius a Kelvin es: 278.15 Kelvin\n",
      "El valor para una temperatura de 6 Celsius a Kelvin es: 279.15 Kelvin\n",
      "El valor para una temperatura de 7 Celsius a Kelvin es: 280.15 Kelvin\n",
      "El valor para una temperatura de 8 Celsius a Kelvin es: 281.15 Kelvin\n",
      "El valor para una temperatura de 9 Celsius a Kelvin es: 282.15 Kelvin\n",
      "El valor para una temperatura de 7 Celsius a Kelvin es: 280.15 Kelvin\n",
      "El valor para una temperatura de 5 Celsius a Kelvin es: 278.15 Kelvin\n",
      "El valor para una temperatura de 4 Celsius a Kelvin es: 277.15 Kelvin\n",
      "El valor para una temperatura de 6 Celsius a Kelvin es: 279.15 Kelvin\n",
      "El valor para una temperatura de 7 Celsius a Kelvin es: 280.15 Kelvin\n",
      "El valor para una temperatura de 9 Celsius a Kelvin es: 282.15 Kelvin\n",
      "El valor para una temperatura de 8 Celsius a Kelvin es: 281.15 Kelvin\n",
      "El valor para una temperatura de 7 Celsius a Kelvin es: 280.15 Kelvin\n",
      "El valor para una temperatura de 2 Celsius a Kelvin es: 275.15 Kelvin\n",
      "El valor para una temperatura de 3 Celsius a Kelvin es: 276.15 Kelvin\n",
      "El valor para una temperatura de 7 Celsius a Kelvin es: 280.15 Kelvin\n"
     ]
    }
   ],
   "source": [
    "toolimport.validar_conversion('C','K')"
   ]
  },
  {
   "cell_type": "code",
   "execution_count": 29,
   "metadata": {},
   "outputs": [
    {
     "name": "stdout",
     "output_type": "stream",
     "text": [
      "El factorial de 1 es: 1\n",
      "El factorial de 2 es: 2\n",
      "El factorial de 3 es: 6\n",
      "El factorial de 4 es: 24\n",
      "El factorial de 5 es: 120\n",
      "El factorial de 6 es: 720\n",
      "El factorial de 7 es: 5040\n",
      "El factorial de 8 es: 40320\n",
      "El factorial de 9 es: 362880\n",
      "El factorial de 7 es: 5040\n",
      "El factorial de 5 es: 120\n",
      "El factorial de 4 es: 24\n",
      "El factorial de 6 es: 720\n",
      "El factorial de 7 es: 5040\n",
      "El factorial de 9 es: 362880\n",
      "El factorial de 8 es: 40320\n",
      "El factorial de 7 es: 5040\n",
      "El factorial de 2 es: 2\n",
      "El factorial de 3 es: 6\n",
      "El factorial de 7 es: 5040\n"
     ]
    }
   ],
   "source": [
    "toolimport.validar_factorial()"
   ]
  }
 ],
 "metadata": {
  "interpreter": {
   "hash": "c85384e4cb51c8b72350f3a8712cc8351fdc3955e32a27f9b60c6242ab125f01"
  },
  "kernelspec": {
   "display_name": "Python 3 (ipykernel)",
   "language": "python",
   "name": "python3"
  },
  "language_info": {
   "codemirror_mode": {
    "name": "ipython",
    "version": 3
   },
   "file_extension": ".py",
   "mimetype": "text/x-python",
   "name": "python",
   "nbconvert_exporter": "python",
   "pygments_lexer": "ipython3",
   "version": "3.11.5"
  }
 },
 "nbformat": 4,
 "nbformat_minor": 4
}
