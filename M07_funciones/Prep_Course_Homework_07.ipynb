{
 "cells": [
  {
   "attachments": {},
   "cell_type": "markdown",
   "metadata": {},
   "source": [
    "## Funciones"
   ]
  },
  {
   "attachments": {},
   "cell_type": "markdown",
   "metadata": {},
   "source": [
    "1) Crear una función que reciba un número como parámetro y devuelva True si es primo y False si no lo es"
   ]
  },
  {
   "cell_type": "code",
   "execution_count": 12,
   "metadata": {},
   "outputs": [
    {
     "data": {
      "text/plain": [
       "True"
      ]
     },
     "execution_count": 12,
     "metadata": {},
     "output_type": "execute_result"
    }
   ],
   "source": [
    "def isprimo1(numero=1):\n",
    "    primo=True\n",
    "    for i in range(2,numero):\n",
    "        if numero%i==0:\n",
    "            primo=False\n",
    "            break\n",
    "    if primo==True:\n",
    "        return True\n",
    "    else:\n",
    "        return False\n",
    "\n",
    "isprimo1(int(input(\"Ingrese el numero a evaluar\")))\n"
   ]
  },
  {
   "attachments": {},
   "cell_type": "markdown",
   "metadata": {},
   "source": [
    "2) Utilizando la función del punto 1, realizar otra función que reciba de parámetro una lista de números y devuelva sólo aquellos que son primos en otra lista"
   ]
  },
  {
   "cell_type": "code",
   "execution_count": 11,
   "metadata": {},
   "outputs": [
    {
     "data": {
      "text/plain": [
       "[1, 2, 3, 5, 7]"
      ]
     },
     "execution_count": 11,
     "metadata": {},
     "output_type": "execute_result"
    }
   ],
   "source": [
    "def isprimo(lista_numeros):\n",
    "    lista=[]\n",
    "    for i in lista_numeros:\n",
    "        primo=True\n",
    "        for x in range(2,i):\n",
    "            if i%x==0:\n",
    "                primo=False\n",
    "                break\n",
    "        if primo==True:\n",
    "            lista.append(i)\n",
    "    return lista\n",
    "\n",
    "isprimo([1,2,3,4,5,6,7,8,9])\n"
   ]
  },
  {
   "cell_type": "code",
   "execution_count": 15,
   "metadata": {},
   "outputs": [
    {
     "data": {
      "text/plain": [
       "[1, 2, 3, 5, 7]"
      ]
     },
     "execution_count": 15,
     "metadata": {},
     "output_type": "execute_result"
    }
   ],
   "source": [
    "#Usando la primera función\n",
    "def isprimo(lista_numeros):\n",
    "    '''\n",
    "    Aca van los comentarios para help\n",
    "    donde vamos adecir que hace la funcion\n",
    "    y que significan los argumentos solicitados y si tienen valores por defecto \n",
    "    '''\n",
    "    lista=[]\n",
    "    for i in lista_numeros:\n",
    "        primo=isprimo1(i)\n",
    "        if primo==True:\n",
    "            lista.append(i)\n",
    "    return lista\n",
    "\n",
    "isprimo([1,2,3,4,5,6,7,8,9])"
   ]
  },
  {
   "attachments": {},
   "cell_type": "markdown",
   "metadata": {},
   "source": [
    "3) Crear una función que al recibir una lista de números, devuelva el que más se repite y cuántas veces lo hace. Si hay más de un \"más repetido\", que devuelva cualquiera"
   ]
  },
  {
   "cell_type": "code",
   "execution_count": 22,
   "metadata": {},
   "outputs": [
    {
     "name": "stdout",
     "output_type": "stream",
     "text": [
      "Help on function isprimo in module __main__:\n",
      "\n",
      "isprimo(lista_numeros)\n",
      "    Aca van los comentarios para help\n",
      "    donde vamos adecir que hace la funcion\n",
      "    y que significan los argumentos solicitados y si tienen valores por defecto\n",
      "\n",
      "2077614270848\n",
      "[10, 20, 30, 40]\n",
      "2077614270848\n"
     ]
    }
   ],
   "source": [
    "#Prueba, ejercicio en la siguiente linea\n",
    "help(isprimo)\n",
    "x=[10,20,30]\n",
    "def funcion(entrada):\n",
    "    entrada.append(40)\n",
    "    print(id(entrada))\n",
    "funcion(x)\n",
    "print(x)\n",
    "print(id(x))"
   ]
  },
  {
   "cell_type": "code",
   "execution_count": 32,
   "metadata": {},
   "outputs": [
    {
     "name": "stdout",
     "output_type": "stream",
     "text": [
      "El numero: 9 se repite 4 veces\n"
     ]
    }
   ],
   "source": [
    "def funcion_mayor_repetido(lista):\n",
    "    Cuenta=0\n",
    "    Numero=None\n",
    "    for i in lista:\n",
    "        cuenta_Temp=lista.count(i)\n",
    "        if cuenta_Temp>Cuenta:\n",
    "            Cuenta=cuenta_Temp\n",
    "            Numero=i\n",
    "    return Numero, Cuenta\n",
    "\n",
    "lista = [1,2,3,4,5,1,2,3,4,5,6,7,8,9,7,3,9,9,9]\n",
    "resultado = funcion_mayor_repetido(lista)\n",
    "print('El numero:',resultado[0],'se repite',resultado[1],'veces')"
   ]
  },
  {
   "attachments": {},
   "cell_type": "markdown",
   "metadata": {},
   "source": [
    "4) Crear una función que convierta entre grados Celsius, Farenheit y Kelvin<br>\n",
    "Fórmula 1\t: (°C × 9/5) + 32 = °F<br>\n",
    "Fórmula 2\t: °C + 273.15 = °K<br>\n",
    "Debe recibir 3 parámetros: el valor, la medida de orígen y la medida de destino\n"
   ]
  },
  {
   "cell_type": "code",
   "execution_count": 39,
   "metadata": {},
   "outputs": [
    {
     "name": "stdout",
     "output_type": "stream",
     "text": [
      "[20, 'C', 'K']\n",
      "293.15\n"
     ]
    }
   ],
   "source": [
    "celsius2farenheit = lambda x: (x*(9/5)) + 32\n",
    "celsius2kelvin = lambda x: x + 273.15\n",
    "farenheit2celsius = lambda x: (x-32)*(5/9)\n",
    "kelvin2celsius = lambda x: x-273.15\n",
    "\n",
    "def funcion_conver_temp(medida,escala_orig,escala_des):\n",
    "    '''funcion para convertir escalas de medidas de temperatura\n",
    "    - medida= numero o valor de la medida original\n",
    "    - escala_origen= Escala de la medida original puede ser (C,K,F)->(Celsius, Farenheit, Kelvin)\n",
    "    - escala_des= Escala a la que se desea convertir (C,K,F)->(Celsius, Farenheit, Kelvin)\n",
    "    Ejemplo= funcion_conver_temp(20,C,F) #Funcón para pasar 20 °C a F\n",
    "    '''\n",
    "    if escala_orig=='C' and escala_des=='F':\n",
    "        return celsius2farenheit(medida)\n",
    "    elif escala_orig=='C' and escala_des=='K':\n",
    "        return celsius2kelvin(medida)\n",
    "    elif escala_orig=='F' and escala_des=='C':\n",
    "        return farenheit2celsius(medida)\n",
    "    elif escala_orig=='K' and escala_des=='C':\n",
    "        return kelvin2celsius(medida)\n",
    "    elif escala_orig=='K' and escala_des=='F':\n",
    "        return celsius2farenheit(kelvin2celsius(medida))\n",
    "    elif escala_orig=='F' and escala_des=='K':\n",
    "        return kelvin2celsius(celsius2farenheit(medida))\n",
    "    elif escala_orig==escala_des:\n",
    "        return medida\n",
    "    else:\n",
    "        return medida\n",
    "        #return 'Escoja una opción valida'\n",
    "\n",
    "temperatura=[20,'C','K']\n",
    "print(temperatura)\n",
    "resultado=funcion_conver_temp(temperatura[0],temperatura[1],temperatura[2])\n",
    "print(resultado)\n",
    "\n"
   ]
  },
  {
   "attachments": {},
   "cell_type": "markdown",
   "metadata": {},
   "source": [
    "5) Iterando una lista con los tres valores posibles de temperatura que recibe la función del punto 5, hacer un print para cada combinación de los mismos:"
   ]
  },
  {
   "cell_type": "code",
   "execution_count": 51,
   "metadata": {},
   "outputs": [
    {
     "name": "stdout",
     "output_type": "stream",
     "text": [
      "El valor para una temperatura de 1 Celsius a Celsius es: 1.00 Celsius\n",
      "El valor para una temperatura de 1 Celsius a Farenheit es: 33.80 Farenheit\n",
      "El valor para una temperatura de 1 Celsius a Kelvin es: 274.15 Kelvin\n",
      "El valor para una temperatura de 1 Farenheit a Celsius es: -17.22 Celsius\n",
      "El valor para una temperatura de 1 Farenheit a Farenheit es: 1.00 Farenheit\n",
      "El valor para una temperatura de 1 Farenheit a Kelvin es: -239.35 Kelvin\n",
      "El valor para una temperatura de 1 Kelvin a Celsius es: -272.15 Celsius\n",
      "El valor para una temperatura de 1 Kelvin a Farenheit es: -457.87 Farenheit\n",
      "El valor para una temperatura de 1 Kelvin a Kelvin es: 1.00 Kelvin\n"
     ]
    }
   ],
   "source": [
    "posibles =['C','F','K']\n",
    "nombres = ['Celsius', 'Farenheit', 'Kelvin']\n",
    "Valor_temp = 1\n",
    "for i in range(0,3):\n",
    "    for x in range(0,3):\n",
    "        print('El valor para una temperatura de {0} {1} a {2} es: {3:.2f} {2}'.format(Valor_temp,nombres[i],nombres[x],funcion_conver_temp(Valor_temp,posibles[i],posibles[x])))\n"
   ]
  },
  {
   "attachments": {},
   "cell_type": "markdown",
   "metadata": {},
   "source": [
    "6) Armar una función que devuelva el factorial de un número. Tener en cuenta que el usuario puede equivocarse y enviar de parámetro un número no entero o negativo"
   ]
  },
  {
   "cell_type": "code",
   "execution_count": 63,
   "metadata": {},
   "outputs": [
    {
     "name": "stdout",
     "output_type": "stream",
     "text": [
      "El factorial del numero 0 es 1\n"
     ]
    }
   ],
   "source": [
    "#from curses.ascii import isdigit\n",
    "\n",
    "\n",
    "def factorial(numero):\n",
    "    if numero>1:\n",
    "        resultado=numero*factorial(numero-1)\n",
    "        return resultado\n",
    "    else:\n",
    "        return 1\n",
    "\n",
    "\n",
    "numero = input(\"Ingrese un valor positivo entero\")\n",
    "\n",
    "if numero.isdigit():\n",
    "    print('El factorial del numero',numero,'es',factorial(int(numero)))\n",
    "elif type(numero)!=int:\n",
    "    print('El numero debe ser entero positivo')\n"
   ]
  }
 ],
 "metadata": {
  "kernelspec": {
   "display_name": "Python 3.11.5 64-bit",
   "language": "python",
   "name": "python3"
  },
  "language_info": {
   "codemirror_mode": {
    "name": "ipython",
    "version": 3
   },
   "file_extension": ".py",
   "mimetype": "text/x-python",
   "name": "python",
   "nbconvert_exporter": "python",
   "pygments_lexer": "ipython3",
   "version": "3.11.5"
  },
  "vscode": {
   "interpreter": {
    "hash": "de4e5ffb18baef109adc7b00874c346e3f2885085b3cb8a27ff03290ef0ee957"
   }
  }
 },
 "nbformat": 4,
 "nbformat_minor": 4
}
