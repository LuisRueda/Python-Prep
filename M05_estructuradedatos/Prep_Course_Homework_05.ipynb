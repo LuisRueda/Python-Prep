{
 "cells": [
  {
   "attachments": {},
   "cell_type": "markdown",
   "metadata": {},
   "source": [
    "## Estructuras de Datos"
   ]
  },
  {
   "attachments": {},
   "cell_type": "markdown",
   "metadata": {},
   "source": [
    "1) Crear una lista que contenga nombres de ciudades del mundo que contenga más de 5 elementos e imprimir por pantalla"
   ]
  },
  {
   "cell_type": "code",
   "execution_count": 2,
   "metadata": {},
   "outputs": [
    {
     "data": {
      "text/plain": [
       "['Paris', 'New York', 'Bogota', 'Lima', 'Madrid', 'Quito']"
      ]
     },
     "execution_count": 2,
     "metadata": {},
     "output_type": "execute_result"
    }
   ],
   "source": [
    "ciudades = ['Paris', 'New York', 'Bogota', 'Lima', 'Madrid', 'Quito']\n",
    "ciudades"
   ]
  },
  {
   "attachments": {},
   "cell_type": "markdown",
   "metadata": {},
   "source": [
    "2) Imprimir por pantalla el segundo elemento de la lista"
   ]
  },
  {
   "cell_type": "code",
   "execution_count": 3,
   "metadata": {},
   "outputs": [
    {
     "data": {
      "text/plain": [
       "'New York'"
      ]
     },
     "execution_count": 3,
     "metadata": {},
     "output_type": "execute_result"
    }
   ],
   "source": [
    "ciudades[1]"
   ]
  },
  {
   "attachments": {},
   "cell_type": "markdown",
   "metadata": {},
   "source": [
    "3) Imprimir por pantalla del segundo al cuarto elemento"
   ]
  },
  {
   "cell_type": "code",
   "execution_count": 5,
   "metadata": {},
   "outputs": [
    {
     "data": {
      "text/plain": [
       "['New York', 'Bogota', 'Lima']"
      ]
     },
     "execution_count": 5,
     "metadata": {},
     "output_type": "execute_result"
    }
   ],
   "source": [
    "ciudades[1:4]"
   ]
  },
  {
   "attachments": {},
   "cell_type": "markdown",
   "metadata": {},
   "source": [
    "4) Visualizar el tipo de dato de la lista"
   ]
  },
  {
   "cell_type": "code",
   "execution_count": 6,
   "metadata": {},
   "outputs": [
    {
     "data": {
      "text/plain": [
       "list"
      ]
     },
     "execution_count": 6,
     "metadata": {},
     "output_type": "execute_result"
    }
   ],
   "source": [
    "type(ciudades)"
   ]
  },
  {
   "attachments": {},
   "cell_type": "markdown",
   "metadata": {},
   "source": [
    "5) Visualizar todos los elementos de la lista a partir del tercero de manera genérica, es decir, sin explicitar la posición del último elemento"
   ]
  },
  {
   "cell_type": "code",
   "execution_count": 7,
   "metadata": {},
   "outputs": [
    {
     "data": {
      "text/plain": [
       "['Bogota', 'Lima', 'Madrid', 'Quito']"
      ]
     },
     "execution_count": 7,
     "metadata": {},
     "output_type": "execute_result"
    }
   ],
   "source": [
    "ciudades[2:]"
   ]
  },
  {
   "attachments": {},
   "cell_type": "markdown",
   "metadata": {},
   "source": [
    "6) Visualizar los primeros 4 elementos de la lista"
   ]
  },
  {
   "cell_type": "code",
   "execution_count": 9,
   "metadata": {},
   "outputs": [
    {
     "data": {
      "text/plain": [
       "['Paris', 'New York', 'Bogota', 'Lima']"
      ]
     },
     "execution_count": 9,
     "metadata": {},
     "output_type": "execute_result"
    }
   ],
   "source": [
    "ciudades[:4]"
   ]
  },
  {
   "attachments": {},
   "cell_type": "markdown",
   "metadata": {},
   "source": [
    "7) Agregar una ciudad más a la lista que ya exista y otra que no ¿Arroja algún tipo de error?"
   ]
  },
  {
   "cell_type": "code",
   "execution_count": 13,
   "metadata": {},
   "outputs": [
    {
     "name": "stdout",
     "output_type": "stream",
     "text": [
      "['Paris', 'New York', 'Bogota', 'Lima', 'Madrid', 'Quito', 'Paris']\n",
      "['Paris', 'New York', 'Bogota', 'Lima', 'Madrid', 'Quito', 'Paris', 'Reino Unido']\n"
     ]
    }
   ],
   "source": [
    "ciudades.append('Paris')\n",
    "print(ciudades)\n",
    "ciudades.append('Reino Unido')\n",
    "print(ciudades)"
   ]
  },
  {
   "attachments": {},
   "cell_type": "markdown",
   "metadata": {},
   "source": [
    "8) Agregar otra ciudad, pero en la cuarta posición"
   ]
  },
  {
   "cell_type": "code",
   "execution_count": 14,
   "metadata": {},
   "outputs": [
    {
     "name": "stdout",
     "output_type": "stream",
     "text": [
      "['Paris', 'New York', 'Bogota', 'Dubai', 'Lima', 'Madrid', 'Quito', 'Paris', 'Reino Unido']\n"
     ]
    }
   ],
   "source": [
    "ciudades.insert(3,'Dubai')\n",
    "print(ciudades)"
   ]
  },
  {
   "attachments": {},
   "cell_type": "markdown",
   "metadata": {},
   "source": [
    "9) Concatenar otra lista a la ya creada"
   ]
  },
  {
   "cell_type": "code",
   "execution_count": 15,
   "metadata": {},
   "outputs": [
    {
     "name": "stdout",
     "output_type": "stream",
     "text": [
      "['Paris', 'New York', 'Bogota', 'Dubai', 'Lima', 'Madrid', 'Quito', 'Paris', 'Reino Unido', 'La plata', 'La Paz']\n"
     ]
    }
   ],
   "source": [
    "ciudades.extend(['La plata', 'La Paz'])\n",
    "print(ciudades)"
   ]
  },
  {
   "attachments": {},
   "cell_type": "markdown",
   "metadata": {},
   "source": [
    "10) Encontrar el índice de la ciudad que en el punto 7 agregamos duplicada. ¿Se nota alguna particularidad?"
   ]
  },
  {
   "cell_type": "code",
   "execution_count": 20,
   "metadata": {},
   "outputs": [
    {
     "name": "stdout",
     "output_type": "stream",
     "text": [
      "[0, 7]\n"
     ]
    }
   ],
   "source": [
    "#ya que se encuentra el primer valor y no sigue\n",
    "ciudadbuscar = input('Ingrese la ciudad a la que desea buscarle los indices')\n",
    "indices=[]\n",
    "indice=0\n",
    "for i in ciudades:\n",
    "    if i==ciudadbuscar:\n",
    "        indices.append(ciudades.index(i,indice,))\n",
    "    indice+=1\n",
    "print(indices)"
   ]
  },
  {
   "attachments": {},
   "cell_type": "markdown",
   "metadata": {},
   "source": [
    "11) ¿Qué pasa si se busca un elemento que no existe?"
   ]
  },
  {
   "cell_type": "code",
   "execution_count": 18,
   "metadata": {},
   "outputs": [
    {
     "ename": "ValueError",
     "evalue": "'Hola' is not in list",
     "output_type": "error",
     "traceback": [
      "\u001b[1;31m---------------------------------------------------------------------------\u001b[0m",
      "\u001b[1;31mValueError\u001b[0m                                Traceback (most recent call last)",
      "Cell \u001b[1;32mIn[18], line 1\u001b[0m\n\u001b[1;32m----> 1\u001b[0m \u001b[43mciudades\u001b[49m\u001b[38;5;241;43m.\u001b[39;49m\u001b[43mindex\u001b[49m\u001b[43m(\u001b[49m\u001b[38;5;124;43m'\u001b[39;49m\u001b[38;5;124;43mHola\u001b[39;49m\u001b[38;5;124;43m'\u001b[39;49m\u001b[43m)\u001b[49m\n",
      "\u001b[1;31mValueError\u001b[0m: 'Hola' is not in list"
     ]
    }
   ],
   "source": [
    "ciudades.index('Hola') #Genera Error."
   ]
  },
  {
   "attachments": {},
   "cell_type": "markdown",
   "metadata": {},
   "source": [
    "12) Eliminar un elemento de la lista"
   ]
  },
  {
   "cell_type": "code",
   "execution_count": 24,
   "metadata": {},
   "outputs": [
    {
     "name": "stdout",
     "output_type": "stream",
     "text": [
      "['Paris', 'New York', 'Bogota', 'Dubai', 'Lima', 'Madrid', 'Quito']\n",
      "['Paris', 'New York', 'Bogota', 'Dubai', 'Lima', 'Madrid']\n",
      "['Paris', 'New York', 'Bogota', 'Dubai', 'Lima', 'Madrid']\n",
      "['Paris', 'New York', 'Bogota', 'Dubai', 'Madrid']\n"
     ]
    }
   ],
   "source": [
    "print(ciudades)\n",
    "ciudades.pop()\n",
    "print(ciudades)\n",
    "#ciudades.pop(7)\n",
    "print(ciudades)\n",
    "ciudades.remove('Lima')\n",
    "print(ciudades)"
   ]
  },
  {
   "attachments": {},
   "cell_type": "markdown",
   "metadata": {},
   "source": [
    "13) ¿Qué pasa si el elemento a eliminar no existe?"
   ]
  },
  {
   "cell_type": "code",
   "execution_count": 25,
   "metadata": {},
   "outputs": [
    {
     "ename": "ValueError",
     "evalue": "list.remove(x): x not in list",
     "output_type": "error",
     "traceback": [
      "\u001b[1;31m---------------------------------------------------------------------------\u001b[0m",
      "\u001b[1;31mValueError\u001b[0m                                Traceback (most recent call last)",
      "Cell \u001b[1;32mIn[25], line 1\u001b[0m\n\u001b[1;32m----> 1\u001b[0m \u001b[43mciudades\u001b[49m\u001b[38;5;241;43m.\u001b[39;49m\u001b[43mremove\u001b[49m\u001b[43m(\u001b[49m\u001b[38;5;124;43m'\u001b[39;49m\u001b[38;5;124;43mLima\u001b[39;49m\u001b[38;5;124;43m'\u001b[39;49m\u001b[43m)\u001b[49m\n\u001b[0;32m      2\u001b[0m \u001b[38;5;28mprint\u001b[39m(ciudades)\n",
      "\u001b[1;31mValueError\u001b[0m: list.remove(x): x not in list"
     ]
    }
   ],
   "source": [
    "ciudades.remove('Lima') #Genera error\n",
    "print(ciudades)"
   ]
  },
  {
   "attachments": {},
   "cell_type": "markdown",
   "metadata": {},
   "source": [
    "14) Extraer el úlimo elemento de la lista, guardarlo en una variable e imprimirlo"
   ]
  },
  {
   "cell_type": "code",
   "execution_count": 27,
   "metadata": {},
   "outputs": [
    {
     "name": "stdout",
     "output_type": "stream",
     "text": [
      "Madrid\n"
     ]
    }
   ],
   "source": [
    "ultimo = ciudades[-1]\n",
    "print(ultimo)"
   ]
  },
  {
   "attachments": {},
   "cell_type": "markdown",
   "metadata": {},
   "source": [
    "15) Mostrar la lista multiplicada por 4"
   ]
  },
  {
   "cell_type": "code",
   "execution_count": 28,
   "metadata": {},
   "outputs": [
    {
     "name": "stdout",
     "output_type": "stream",
     "text": [
      "Lista original es ['Paris', 'New York', 'Bogota', 'Dubai', 'Madrid']\n",
      "Lista multiplicada es ['Paris', 'New York', 'Bogota', 'Dubai', 'Madrid', 'Paris', 'New York', 'Bogota', 'Dubai', 'Madrid', 'Paris', 'New York', 'Bogota', 'Dubai', 'Madrid', 'Paris', 'New York', 'Bogota', 'Dubai', 'Madrid']\n"
     ]
    }
   ],
   "source": [
    "print('Lista original es', ciudades)\n",
    "print('Lista multiplicada es',ciudades*4)"
   ]
  },
  {
   "attachments": {},
   "cell_type": "markdown",
   "metadata": {},
   "source": [
    "16) Crear una tupla que contenga los números enteros del 1 al 20"
   ]
  },
  {
   "cell_type": "code",
   "execution_count": 29,
   "metadata": {},
   "outputs": [
    {
     "data": {
      "text/plain": [
       "(1, 2, 3, 4, 5, 6, 7, 8, 9, 10, 11, 12, 13, 14, 15, 16, 17, 18, 19, 20)"
      ]
     },
     "execution_count": 29,
     "metadata": {},
     "output_type": "execute_result"
    }
   ],
   "source": [
    "mi_tupla=tuple(range(1,21))\n",
    "mi_tupla"
   ]
  },
  {
   "attachments": {},
   "cell_type": "markdown",
   "metadata": {},
   "source": [
    "17) Imprimir desde el índice 10 al 15 de la tupla"
   ]
  },
  {
   "cell_type": "code",
   "execution_count": 33,
   "metadata": {},
   "outputs": [
    {
     "name": "stdout",
     "output_type": "stream",
     "text": [
      "(11, 12, 13, 14, 15)\n"
     ]
    }
   ],
   "source": [
    "print(mi_tupla[10:15])"
   ]
  },
  {
   "attachments": {},
   "cell_type": "markdown",
   "metadata": {},
   "source": [
    "18) Evaluar si los números 20 y 30 están dentro de la tupla"
   ]
  },
  {
   "cell_type": "code",
   "execution_count": 37,
   "metadata": {},
   "outputs": [
    {
     "name": "stdout",
     "output_type": "stream",
     "text": [
      "El numero 20 esta en la tupla? True\n",
      "El numero 30 esta en la tupla? False\n"
     ]
    }
   ],
   "source": [
    "print('El numero 20 esta en la tupla?', 20 in mi_tupla)\n",
    "print('El numero 30 esta en la tupla?', 30 in mi_tupla)"
   ]
  },
  {
   "attachments": {},
   "cell_type": "markdown",
   "metadata": {},
   "source": [
    "19) Con la lista creada en el punto 1, validar la existencia del elemento 'París' y si no existe, agregarlo. Utilizar una variable e informar lo sucedido."
   ]
  },
  {
   "cell_type": "code",
   "execution_count": 39,
   "metadata": {},
   "outputs": [
    {
     "name": "stdout",
     "output_type": "stream",
     "text": [
      "Ciudad New orleans agregada\n",
      "['Paris', 'New York', 'Bogota', 'Dubai', 'Madrid', 'New orleans']\n"
     ]
    }
   ],
   "source": [
    "ciudadnueva ='New orleans'\n",
    "if ciudades.count(ciudadnueva)>0:\n",
    "    print('Esta ciudad ya existe')\n",
    "else:\n",
    "    ciudades.append(ciudadnueva)\n",
    "    print('Ciudad {} agregada'.format(ciudadnueva))\n",
    "print(ciudades)\n"
   ]
  },
  {
   "attachments": {},
   "cell_type": "markdown",
   "metadata": {},
   "source": [
    "20) Mostrar la cantidad de veces que se encuentra un elemento específico dentro de la tupla y de la lista"
   ]
  },
  {
   "cell_type": "code",
   "execution_count": 40,
   "metadata": {},
   "outputs": [
    {
     "data": {
      "text/plain": [
       "1"
      ]
     },
     "execution_count": 40,
     "metadata": {},
     "output_type": "execute_result"
    }
   ],
   "source": [
    "mi_tupla.count(10)"
   ]
  },
  {
   "attachments": {},
   "cell_type": "markdown",
   "metadata": {},
   "source": [
    "21) Convertir la tupla en una lista"
   ]
  },
  {
   "cell_type": "code",
   "execution_count": 42,
   "metadata": {},
   "outputs": [
    {
     "name": "stdout",
     "output_type": "stream",
     "text": [
      "La tupla era: (1, 2, 3, 4, 5, 6, 7, 8, 9, 10, 11, 12, 13, 14, 15, 16, 17, 18, 19, 20)\n",
      "La nueva lista es: [1, 2, 3, 4, 5, 6, 7, 8, 9, 10, 11, 12, 13, 14, 15, 16, 17, 18, 19, 20]\n"
     ]
    }
   ],
   "source": [
    "lista_nueva = list(mi_tupla)\n",
    "print('La tupla era:', mi_tupla)\n",
    "print('La nueva lista es:', lista_nueva)"
   ]
  },
  {
   "attachments": {},
   "cell_type": "markdown",
   "metadata": {},
   "source": [
    "22) Desempaquetar solo los primeros 3 elementos de la tupla en 3 variables"
   ]
  },
  {
   "cell_type": "code",
   "execution_count": 46,
   "metadata": {},
   "outputs": [
    {
     "name": "stdout",
     "output_type": "stream",
     "text": [
      "Elemento 1 es: 1, elemento 2 es: 2, elemento 3 es: 3\n"
     ]
    }
   ],
   "source": [
    "a,b,c = mi_tupla[0:3]\n",
    "print('Elemento 1 es: {0}, elemento 2 es: {1}, elemento 3 es: {2}'.format(a,b,c))"
   ]
  },
  {
   "attachments": {},
   "cell_type": "markdown",
   "metadata": {},
   "source": [
    "23) Crear un diccionario utilizando la lista crada en el punto 1, asignandole la clave \"ciudad\". Agregar tambien otras claves, como puede ser \"Pais\" y \"Continente\"."
   ]
  },
  {
   "cell_type": "code",
   "execution_count": 50,
   "metadata": {},
   "outputs": [
    {
     "name": "stdout",
     "output_type": "stream",
     "text": [
      "Primer diccionario es: {'ciudad': ['Paris', 'New York', 'Bogota', 'Dubai', 'Madrid', 'New orleans'], 'Pais': ['Colombia', 'USA', 'Francia', 'España'], 'Continente': ['America', 'Asia', 'Africa', 'Oceania']}\n",
      "El segundo diccionario es: {'Colores Primarios': ['Rojo', 'Azul', 'Amarillo'], 'Colores Secundarios': ['Naranja', 'Violeta', 'Verde'], 'Clave 3': 10, 'Clave 4': False}\n",
      "El segundo diccionario es: {'Colores Primarios': ['Rojo', 'Azul', 'Amarillo'], 'Colores Secundarios': ['Naranja', 'Violeta', 'Verde'], 'Clave 3': 10}\n"
     ]
    }
   ],
   "source": [
    "primer_diccionario=dict()\n",
    "primer_diccionario['ciudad']=ciudades\n",
    "primer_diccionario['Pais']=['Colombia', 'USA', 'Francia', 'España']\n",
    "primer_diccionario['Continente']=['America', 'Asia', 'Africa', 'Oceania']\n",
    "print('Primer diccionario es:',primer_diccionario)\n",
    "segundo_diccionario={\n",
    "    'Colores Primarios':['Rojo','Azul','Amarillo'],\n",
    "    'Colores Secundarios':['Naranja','Violeta','Verde'],\n",
    "    'Clave 3':10,\n",
    "    'Clave 4': False\n",
    "}\n",
    "print('El segundo diccionario es:', segundo_diccionario)\n",
    "del segundo_diccionario['Clave 4']\n",
    "print('El segundo diccionario es:', segundo_diccionario)"
   ]
  },
  {
   "attachments": {},
   "cell_type": "markdown",
   "metadata": {},
   "source": [
    "24) Imprimir las claves del diccionario"
   ]
  },
  {
   "cell_type": "code",
   "execution_count": 52,
   "metadata": {},
   "outputs": [
    {
     "name": "stdout",
     "output_type": "stream",
     "text": [
      "dict_keys(['ciudad', 'Pais', 'Continente'])\n",
      "dict_keys(['Colores Primarios', 'Colores Secundarios', 'Clave 3'])\n"
     ]
    }
   ],
   "source": [
    "print(primer_diccionario.keys())\n",
    "print(segundo_diccionario.keys())"
   ]
  },
  {
   "attachments": {},
   "cell_type": "markdown",
   "metadata": {},
   "source": [
    "25) Imprimir las ciudades a través de su clave"
   ]
  },
  {
   "cell_type": "code",
   "execution_count": 57,
   "metadata": {},
   "outputs": [
    {
     "name": "stdout",
     "output_type": "stream",
     "text": [
      "dict_values([['Paris', 'New York', 'Bogota', 'Dubai', 'Madrid', 'New orleans'], ['Colombia', 'USA', 'Francia', 'España'], ['America', 'Asia', 'Africa', 'Oceania']])\n",
      "['Paris', 'New York', 'Bogota', 'Dubai', 'Madrid', 'New orleans']\n"
     ]
    }
   ],
   "source": [
    "#print(primer_diccionario.values('ciudad'))\n",
    "print(primer_diccionario.values()) # todos los valores\n",
    "print(primer_diccionario['ciudad']) #Valores por clave"
   ]
  }
 ],
 "metadata": {
  "kernelspec": {
   "display_name": "Python 3.11.5 64-bit",
   "language": "python",
   "name": "python3"
  },
  "language_info": {
   "codemirror_mode": {
    "name": "ipython",
    "version": 3
   },
   "file_extension": ".py",
   "mimetype": "text/x-python",
   "name": "python",
   "nbconvert_exporter": "python",
   "pygments_lexer": "ipython3",
   "version": "3.11.5"
  },
  "vscode": {
   "interpreter": {
    "hash": "de4e5ffb18baef109adc7b00874c346e3f2885085b3cb8a27ff03290ef0ee957"
   }
  }
 },
 "nbformat": 4,
 "nbformat_minor": 4
}
