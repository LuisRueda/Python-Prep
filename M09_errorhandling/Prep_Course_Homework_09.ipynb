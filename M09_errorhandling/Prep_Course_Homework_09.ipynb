{
 "cells": [
  {
   "attachments": {},
   "cell_type": "markdown",
   "metadata": {},
   "source": [
    "## Manejo de errores"
   ]
  },
  {
   "attachments": {},
   "cell_type": "markdown",
   "metadata": {},
   "source": [
    "1) Con la clase creada en el módulo 7, tener en cuenta diferentes casos en que el código pudiera arrojar error. Por ejemplo, en la creación del objeto recibimos una lista de números enteros pero ¿qué pasa si se envía otro tipo de dato?"
   ]
  },
  {
   "cell_type": "code",
   "execution_count": 1,
   "metadata": {},
   "outputs": [],
   "source": [
    "import sys\n",
    "\n",
    "sys.path.append('..')"
   ]
  },
  {
   "cell_type": "code",
   "execution_count": 2,
   "metadata": {},
   "outputs": [
    {
     "ename": "AssertionError",
     "evalue": "Hola no es una lista, se espera una lista de números enteros",
     "output_type": "error",
     "traceback": [
      "\u001b[1;31m---------------------------------------------------------------------------\u001b[0m",
      "\u001b[1;31mAssertionError\u001b[0m                            Traceback (most recent call last)",
      "\u001b[1;32mc:\\Users\\Luisr\\OneDrive\\Desktop\\Python-Prep\\M09_errorhandling\\Prep_Course_Homework_09.ipynb Cell 4\u001b[0m line \u001b[0;36m5\n\u001b[0;32m      <a href='vscode-notebook-cell:/c%3A/Users/Luisr/OneDrive/Desktop/Python-Prep/M09_errorhandling/Prep_Course_Homework_09.ipynb#W3sZmlsZQ%3D%3D?line=1'>2</a>\u001b[0m \u001b[39m#import Herramientas as ToolsImp\u001b[39;00m\n\u001b[0;32m      <a href='vscode-notebook-cell:/c%3A/Users/Luisr/OneDrive/Desktop/Python-Prep/M09_errorhandling/Prep_Course_Homework_09.ipynb#W3sZmlsZQ%3D%3D?line=3'>4</a>\u001b[0m lista \u001b[39m=\u001b[39m \u001b[39m'\u001b[39m\u001b[39mHola\u001b[39m\u001b[39m'\u001b[39m\n\u001b[1;32m----> <a href='vscode-notebook-cell:/c%3A/Users/Luisr/OneDrive/Desktop/Python-Prep/M09_errorhandling/Prep_Course_Homework_09.ipynb#W3sZmlsZQ%3D%3D?line=4'>5</a>\u001b[0m tools \u001b[39m=\u001b[39m ToolsImp(lista)\n",
      "File \u001b[1;32mc:\\Users\\Luisr\\OneDrive\\Desktop\\Python-Prep\\M09_errorhandling\\..\\M08_clasesyOOP\\MisModulos\\Herramientas.py:4\u001b[0m, in \u001b[0;36mHerramientasImp.__init__\u001b[1;34m(self, lista)\u001b[0m\n\u001b[0;32m      3\u001b[0m \u001b[39mdef\u001b[39;00m \u001b[39m__init__\u001b[39m(\u001b[39mself\u001b[39m, lista):\n\u001b[1;32m----> 4\u001b[0m     \u001b[39massert\u001b[39;00m \u001b[39mtype\u001b[39m(lista) \u001b[39m==\u001b[39m \u001b[39mlist\u001b[39m, \u001b[39mf\u001b[39m\u001b[39m'\u001b[39m\u001b[39m{\u001b[39;00mlista\u001b[39m}\u001b[39;00m\u001b[39m no es una lista, se espera una lista de números enteros\u001b[39m\u001b[39m'\u001b[39m\n\u001b[0;32m      5\u001b[0m     \u001b[39m#self.lista = lista\u001b[39;00m\n\u001b[0;32m      6\u001b[0m     \u001b[39mif\u001b[39;00m (\u001b[39mlen\u001b[39m(lista) \u001b[39m==\u001b[39m \u001b[39m0\u001b[39m):\n",
      "\u001b[1;31mAssertionError\u001b[0m: Hola no es una lista, se espera una lista de números enteros"
     ]
    }
   ],
   "source": [
    "from M08_clasesyOOP.MisModulos.Herramientas import HerramientasImp as ToolsImp\n",
    "#import Herramientas as ToolsImp\n",
    "\n",
    "lista = 'Hola'\n",
    "tools = ToolsImp(lista)"
   ]
  },
  {
   "attachments": {},
   "cell_type": "markdown",
   "metadata": {},
   "source": [
    "2) En la función que hace la conversión de grados, validar que los parámetros enviados sean los esperados, de no serlo, informar cuáles son los valores esperados."
   ]
  },
  {
   "cell_type": "code",
   "execution_count": 3,
   "metadata": {},
   "outputs": [
    {
     "name": "stdout",
     "output_type": "stream",
     "text": [
      "Los párametros esperados son C F ó K\n"
     ]
    },
    {
     "data": {
      "text/plain": [
       "[]"
      ]
     },
     "execution_count": 3,
     "metadata": {},
     "output_type": "execute_result"
    }
   ],
   "source": [
    "origen = '1'\n",
    "destino = '2'\n",
    "lista = [1,2,3]\n",
    "tools = ToolsImp(lista)\n",
    "tools.validar_conversion(origen,destino)"
   ]
  },
  {
   "cell_type": "code",
   "execution_count": 4,
   "metadata": {},
   "outputs": [
    {
     "data": {
      "text/plain": [
       "[274.15, 275.15, 276.15]"
      ]
     },
     "execution_count": 4,
     "metadata": {},
     "output_type": "execute_result"
    }
   ],
   "source": [
    "origen = 'C'\n",
    "destino = 'K'\n",
    "tools = ToolsImp(lista)\n",
    "tools.validar_conversion(origen,destino)"
   ]
  },
  {
   "attachments": {},
   "cell_type": "markdown",
   "metadata": {},
   "source": [
    "3) Importar el modulo \"unittest\" y crear los siguientes casos de pruebas sobre la clase utilizada en el punto 2<br>\n",
    "Creacion del objeto incorrecta<br>\n",
    "Creacion correcta del objeto<br>\n",
    "Metodo valor_modal()<br>\n",
    "\n",
    "Se puede usar \"raise ValueError()\" en la creación de la clase para verificar el error. Investigar sobre esta funcionalidad."
   ]
  },
  {
   "cell_type": "code",
   "execution_count": 5,
   "metadata": {},
   "outputs": [],
   "source": [
    "import unittest\n",
    "\n",
    "\n",
    "#importlib.reload(HerramientasImp)\n",
    "\n",
    "class PruebasHerramientas(unittest.TestCase):\n",
    "\n",
    "    def test_creacion_objeto_incorrecta(self):\n",
    "        argumento= 'error'\n",
    "        self.assertRaises(AssertionError,ToolsImp,argumento)\n",
    "\n",
    "    def test_creacion_objeto_correcta(self):\n",
    "        argumento= [1,2,3]\n",
    "        testtool = ToolsImp(argumento)\n",
    "        self.assertEqual(testtool.lista,argumento)\n",
    "\n",
    "    def test_valor_modal(self):\n",
    "        argumento= [1,2,3,4,2,3,2]\n",
    "        testtool = ToolsImp(argumento)\n",
    "        resultadoexe=testtool.validar_modal()\n",
    "        #print(resultadoexe)\n",
    "        resultadoespe=(2,3)\n",
    "        self.assertEqual(resultadoexe, resultadoespe)"
   ]
  },
  {
   "cell_type": "code",
   "execution_count": 6,
   "metadata": {},
   "outputs": [
    {
     "name": "stderr",
     "output_type": "stream",
     "text": [
      "test_creacion_objeto_correcta (__main__.PruebasHerramientas.test_creacion_objeto_correcta) ... ok\n",
      "test_creacion_objeto_incorrecta (__main__.PruebasHerramientas.test_creacion_objeto_incorrecta) ... ok\n",
      "test_valor_modal (__main__.PruebasHerramientas.test_valor_modal) ... ok\n",
      "\n",
      "----------------------------------------------------------------------\n",
      "Ran 3 tests in 0.005s\n",
      "\n",
      "OK\n"
     ]
    },
    {
     "data": {
      "text/plain": [
       "<unittest.main.TestProgram at 0x1b8f40d96d0>"
      ]
     },
     "execution_count": 6,
     "metadata": {},
     "output_type": "execute_result"
    }
   ],
   "source": [
    "unittest.main(argv=[''],verbosity=2,exit=False)\n",
    "\n"
   ]
  },
  {
   "attachments": {},
   "cell_type": "markdown",
   "metadata": {},
   "source": [
    "4) Probar una creación incorrecta y visualizar la salida del \"raise\""
   ]
  },
  {
   "cell_type": "code",
   "execution_count": 7,
   "metadata": {},
   "outputs": [
    {
     "ename": "ValueError",
     "evalue": "Se ha creado una lista vacía. Se esperaba una lista de números enteros",
     "output_type": "error",
     "traceback": [
      "\u001b[1;31m---------------------------------------------------------------------------\u001b[0m",
      "\u001b[1;31mValueError\u001b[0m                                Traceback (most recent call last)",
      "\u001b[1;32mc:\\Users\\Luisr\\OneDrive\\Desktop\\Python-Prep\\M09_errorhandling\\Prep_Course_Homework_09.ipynb Cell 12\u001b[0m line \u001b[0;36m2\n\u001b[0;32m      <a href='vscode-notebook-cell:/c%3A/Users/Luisr/OneDrive/Desktop/Python-Prep/M09_errorhandling/Prep_Course_Homework_09.ipynb#X14sZmlsZQ%3D%3D?line=0'>1</a>\u001b[0m lista\u001b[39m=\u001b[39m[]\n\u001b[1;32m----> <a href='vscode-notebook-cell:/c%3A/Users/Luisr/OneDrive/Desktop/Python-Prep/M09_errorhandling/Prep_Course_Homework_09.ipynb#X14sZmlsZQ%3D%3D?line=1'>2</a>\u001b[0m test\u001b[39m=\u001b[39mToolsImp(lista)\n\u001b[0;32m      <a href='vscode-notebook-cell:/c%3A/Users/Luisr/OneDrive/Desktop/Python-Prep/M09_errorhandling/Prep_Course_Homework_09.ipynb#X14sZmlsZQ%3D%3D?line=2'>3</a>\u001b[0m \u001b[39mprint\u001b[39m(test\u001b[39m.\u001b[39mlista)\n",
      "File \u001b[1;32mc:\\Users\\Luisr\\OneDrive\\Desktop\\Python-Prep\\M09_errorhandling\\..\\M08_clasesyOOP\\MisModulos\\Herramientas.py:8\u001b[0m, in \u001b[0;36mHerramientasImp.__init__\u001b[1;34m(self, lista)\u001b[0m\n\u001b[0;32m      6\u001b[0m \u001b[39mif\u001b[39;00m (\u001b[39mlen\u001b[39m(lista) \u001b[39m==\u001b[39m \u001b[39m0\u001b[39m):\n\u001b[0;32m      7\u001b[0m     \u001b[39mself\u001b[39m\u001b[39m.\u001b[39mlista \u001b[39m=\u001b[39m []\n\u001b[1;32m----> 8\u001b[0m     \u001b[39mraise\u001b[39;00m \u001b[39mValueError\u001b[39;00m(\u001b[39m'\u001b[39m\u001b[39mSe ha creado una lista vacía. Se esperaba una lista de números enteros\u001b[39m\u001b[39m'\u001b[39m)  \n\u001b[0;32m      9\u001b[0m \u001b[39melse\u001b[39;00m:\n\u001b[0;32m     10\u001b[0m     \u001b[39mself\u001b[39m\u001b[39m.\u001b[39mlista \u001b[39m=\u001b[39m lista\n",
      "\u001b[1;31mValueError\u001b[0m: Se ha creado una lista vacía. Se esperaba una lista de números enteros"
     ]
    }
   ],
   "source": [
    "lista=[]\n",
    "test=ToolsImp(lista)\n",
    "print(test.lista)\n"
   ]
  },
  {
   "attachments": {},
   "cell_type": "markdown",
   "metadata": {},
   "source": [
    "6) Agregar casos de pruebas para el método verifica_primos() realizando el cambio en la clase, para que devuelva una lista de True o False en función de que el elemento en la posisicón sea o no primo"
   ]
  },
  {
   "cell_type": "code",
   "execution_count": 8,
   "metadata": {},
   "outputs": [],
   "source": [
    "import unittest\n",
    "\n",
    "\n",
    "class PruebasHerramientas(unittest.TestCase):\n",
    "\n",
    "    def test_creacion_objeto_incorrecta(self):\n",
    "        argumento= 'error'\n",
    "        self.assertRaises(AssertionError,ToolsImp,argumento)\n",
    "\n",
    "    def test_creacion_objeto_correcta(self):\n",
    "        argumento= [1,2,3]\n",
    "        testtool = ToolsImp(argumento)\n",
    "        self.assertEqual(testtool.lista,argumento)\n",
    "\n",
    "    def test_valor_modal(self):\n",
    "        argumento= [1,2,3,4,2,3,2]\n",
    "        testtool = ToolsImp(argumento)\n",
    "        resultadoexe=testtool.validar_modal()\n",
    "        #print(resultadoexe)\n",
    "        resultadoespe=(2,3)\n",
    "        self.assertEqual(resultadoexe, resultadoespe)\n",
    "    \n",
    "    def test_primos(self):\n",
    "        argumento = [1,2,3,4,5,6,7,8,9,10]\n",
    "        resultado = [1,2,3,5,7]\n",
    "        testtool = ToolsImp(argumento)\n",
    "        primosexe = testtool.validar_primos()\n",
    "        self.assertEqual(primosexe, resultado)"
   ]
  },
  {
   "cell_type": "code",
   "execution_count": 9,
   "metadata": {},
   "outputs": [
    {
     "name": "stderr",
     "output_type": "stream",
     "text": [
      "test_creacion_objeto_correcta (__main__.PruebasHerramientas.test_creacion_objeto_correcta) ... ok\n",
      "test_creacion_objeto_incorrecta (__main__.PruebasHerramientas.test_creacion_objeto_incorrecta) ... ok\n",
      "test_primos (__main__.PruebasHerramientas.test_primos) ... ok\n",
      "test_valor_modal (__main__.PruebasHerramientas.test_valor_modal) ... ok\n",
      "\n",
      "----------------------------------------------------------------------\n",
      "Ran 4 tests in 0.006s\n",
      "\n",
      "OK\n"
     ]
    },
    {
     "data": {
      "text/plain": [
       "<unittest.main.TestProgram at 0x1b8f4779bd0>"
      ]
     },
     "execution_count": 9,
     "metadata": {},
     "output_type": "execute_result"
    }
   ],
   "source": [
    "unittest.main(argv=[''],verbosity=2,exit=False)"
   ]
  },
  {
   "attachments": {},
   "cell_type": "markdown",
   "metadata": {},
   "source": [
    "7) Agregar casos de pruebas para el método conversion_grados()"
   ]
  },
  {
   "cell_type": "code",
   "execution_count": 10,
   "metadata": {},
   "outputs": [],
   "source": [
    "import unittest\n",
    "\n",
    "\n",
    "class PruebasHerramientas(unittest.TestCase):\n",
    "\n",
    "    def test_creacion_objeto_incorrecta(self):\n",
    "        argumento= 'error'\n",
    "        self.assertRaises(AssertionError,ToolsImp,argumento)\n",
    "\n",
    "    def test_creacion_objeto_correcta(self):\n",
    "        argumento= [1,2,3]\n",
    "        testtool = ToolsImp(argumento)\n",
    "        self.assertEqual(testtool.lista,argumento)\n",
    "\n",
    "    def test_valor_modal(self):\n",
    "        argumento= [1,2,3,4,2,3,2]\n",
    "        testtool = ToolsImp(argumento)\n",
    "        resultadoexe=testtool.validar_modal()\n",
    "        #print(resultadoexe)\n",
    "        resultadoespe=(2,3)\n",
    "        self.assertEqual(resultadoexe, resultadoespe)\n",
    "    \n",
    "    def test_primos(self):\n",
    "        argumento = [1,2,3,4,5,6,7,8,9,10]\n",
    "        resultadoespe = [1,2,3,5,7]\n",
    "        testtool = ToolsImp(argumento)\n",
    "        resultadoexe = testtool.validar_primos()\n",
    "        self.assertEqual(resultadoexe, resultadoespe)\n",
    "    \n",
    "    def test_conversion_grados(self):\n",
    "        argumento = [1,2,3,4,5,6,7,8,9,10]\n",
    "        origen = 'C'\n",
    "        destino = 'K'\n",
    "        resultadoespe = [ i+273.15 for i in argumento]\n",
    "        testtool = ToolsImp(argumento)\n",
    "        resultadoexe = testtool.validar_conversion(origen, destino)\n",
    "        self.assertEqual(resultadoexe, resultadoespe)\n",
    "\n"
   ]
  },
  {
   "cell_type": "code",
   "execution_count": 11,
   "metadata": {},
   "outputs": [
    {
     "name": "stderr",
     "output_type": "stream",
     "text": [
      "test_conversion_grados (__main__.PruebasHerramientas.test_conversion_grados) ... ok\n",
      "test_creacion_objeto_correcta (__main__.PruebasHerramientas.test_creacion_objeto_correcta) ... ok\n",
      "test_creacion_objeto_incorrecta (__main__.PruebasHerramientas.test_creacion_objeto_incorrecta) ... ok\n",
      "test_primos (__main__.PruebasHerramientas.test_primos) ... ok\n",
      "test_valor_modal (__main__.PruebasHerramientas.test_valor_modal) ... ok\n",
      "\n",
      "----------------------------------------------------------------------\n",
      "Ran 5 tests in 0.007s\n",
      "\n",
      "OK\n"
     ]
    },
    {
     "data": {
      "text/plain": [
       "<unittest.main.TestProgram at 0x1b8f30d06d0>"
      ]
     },
     "execution_count": 11,
     "metadata": {},
     "output_type": "execute_result"
    }
   ],
   "source": [
    "unittest.main(argv=[''],verbosity=2,exit=False)"
   ]
  },
  {
   "attachments": {},
   "cell_type": "markdown",
   "metadata": {},
   "source": [
    "8) Agregar casos de pruebas para el método factorial()"
   ]
  },
  {
   "cell_type": "code",
   "execution_count": null,
   "metadata": {},
   "outputs": [],
   "source": []
  },
  {
   "cell_type": "code",
   "execution_count": null,
   "metadata": {},
   "outputs": [],
   "source": [
    "unittest.main(argv=[''],verbosity=2,exit=False)"
   ]
  }
 ],
 "metadata": {
  "interpreter": {
   "hash": "c85384e4cb51c8b72350f3a8712cc8351fdc3955e32a27f9b60c6242ab125f01"
  },
  "kernelspec": {
   "display_name": "Python 3 (ipykernel)",
   "language": "python",
   "name": "python3"
  },
  "language_info": {
   "codemirror_mode": {
    "name": "ipython",
    "version": 3
   },
   "file_extension": ".py",
   "mimetype": "text/x-python",
   "name": "python",
   "nbconvert_exporter": "python",
   "pygments_lexer": "ipython3",
   "version": "3.11.5"
  }
 },
 "nbformat": 4,
 "nbformat_minor": 4
}
