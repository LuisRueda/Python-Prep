{
 "cells": [
  {
   "attachments": {},
   "cell_type": "markdown",
   "metadata": {},
   "source": [
    "## Flujos de Control"
   ]
  },
  {
   "attachments": {},
   "cell_type": "markdown",
   "metadata": {},
   "source": [
    "1) Crear una variable que contenga un elemento del conjunto de números enteros y luego imprimir por pantalla si es mayor o menor a cero"
   ]
  },
  {
   "cell_type": "code",
   "execution_count": 3,
   "metadata": {},
   "outputs": [
    {
     "name": "stdout",
     "output_type": "stream",
     "text": [
      "Numero positivo\n"
     ]
    }
   ],
   "source": [
    "x=5\n",
    "if x>0:\n",
    "    print(\"Numero positivo\")\n",
    "else:\n",
    "    print(\"Numero negativo\")"
   ]
  },
  {
   "attachments": {},
   "cell_type": "markdown",
   "metadata": {},
   "source": [
    "2) Crear dos variables y un condicional que informe si son del mismo tipo de dato"
   ]
  },
  {
   "cell_type": "code",
   "execution_count": 6,
   "metadata": {},
   "outputs": [
    {
     "name": "stdout",
     "output_type": "stream",
     "text": [
      "Son tipos de variables iguales\n"
     ]
    }
   ],
   "source": [
    "x1 = 8\n",
    "x2 = 9\n",
    "if type(x1)==type(x2):\n",
    "    print('Son tipos de variables iguales')\n",
    "else:\n",
    "    print('Son tipos de variables diferentes')"
   ]
  },
  {
   "attachments": {},
   "cell_type": "markdown",
   "metadata": {},
   "source": [
    "3) Para los valores enteros del 1 al 20, imprimir por pantalla si es par o impar"
   ]
  },
  {
   "cell_type": "code",
   "execution_count": 15,
   "metadata": {},
   "outputs": [
    {
     "name": "stdout",
     "output_type": "stream",
     "text": [
      "El valor 1 es impar\n",
      "El valor 2 es par\n",
      "El valor 3 es impar\n",
      "El valor 4 es par\n",
      "El valor 5 es impar\n",
      "El valor 6 es par\n",
      "El valor 7 es impar\n",
      "El valor 8 es par\n",
      "El valor 9 es impar\n",
      "El valor 10 es par\n",
      "El valor 11 es impar\n",
      "El valor 12 es par\n",
      "El valor 13 es impar\n",
      "El valor 14 es par\n",
      "El valor 15 es impar\n",
      "El valor 16 es par\n",
      "El valor 17 es impar\n",
      "El valor 18 es par\n",
      "El valor 19 es impar\n",
      "El valor 20 es par\n"
     ]
    }
   ],
   "source": [
    "x = list(range(1,21))\n",
    "for v in x:\n",
    "    if v%2==0:\n",
    "        print('El valor '+ str(v) +' es par')\n",
    "    else:\n",
    "        print('El valor '+ str(v) +' es impar')"
   ]
  },
  {
   "attachments": {},
   "cell_type": "markdown",
   "metadata": {},
   "source": [
    "4) En un ciclo for mostrar para los valores entre 0 y 5 el resultado de elevarlo a la potencia igual a 3"
   ]
  },
  {
   "cell_type": "code",
   "execution_count": 16,
   "metadata": {},
   "outputs": [
    {
     "name": "stdout",
     "output_type": "stream",
     "text": [
      "0\n",
      "1\n",
      "8\n",
      "27\n",
      "64\n",
      "125\n"
     ]
    }
   ],
   "source": [
    "x=0\n",
    "for x in range(0,6):\n",
    "    print(x**3)"
   ]
  },
  {
   "attachments": {},
   "cell_type": "markdown",
   "metadata": {},
   "source": [
    "5) Crear una variable que contenga un número entero y realizar un ciclo for la misma cantidad de ciclos"
   ]
  },
  {
   "cell_type": "code",
   "execution_count": 17,
   "metadata": {},
   "outputs": [
    {
     "name": "stdout",
     "output_type": "stream",
     "text": [
      "ciclo numero: 1\n",
      "ciclo numero: 2\n",
      "ciclo numero: 3\n",
      "ciclo numero: 4\n",
      "ciclo numero: 5\n",
      "ciclo numero: 6\n"
     ]
    }
   ],
   "source": [
    "x=6\n",
    "for i in range(0,x):\n",
    "    print('ciclo numero: ' + str(i+1))\n"
   ]
  },
  {
   "attachments": {},
   "cell_type": "markdown",
   "metadata": {},
   "source": [
    "6) Utilizar un ciclo while para realizar el factorial de un número guardado en una variable, sólo si la variable contiene un número entero mayor a 0"
   ]
  },
  {
   "cell_type": "code",
   "execution_count": 32,
   "metadata": {},
   "outputs": [
    {
     "data": {
      "text/plain": [
       "120"
      ]
     },
     "execution_count": 32,
     "metadata": {},
     "output_type": "execute_result"
    }
   ],
   "source": [
    "x=5\n",
    "fact=1\n",
    "i=1\n",
    "while (x>0 and i<x):\n",
    "    i += 1\n",
    "    fact *= i    \n",
    "fact\n"
   ]
  },
  {
   "attachments": {},
   "cell_type": "markdown",
   "metadata": {},
   "source": [
    "7) Crear un ciclo for dentro de un ciclo while"
   ]
  },
  {
   "cell_type": "code",
   "execution_count": 36,
   "metadata": {},
   "outputs": [
    {
     "name": "stdout",
     "output_type": "stream",
     "text": [
      "Ciclo while #: 1\n",
      "Ciclo for # 1\n",
      "Ciclo for # 2\n",
      "Ciclo for # 3\n",
      "Ciclo for # 4\n",
      "Ciclo for # 5\n",
      "Ciclo while #: 2\n",
      "Ciclo for # 1\n",
      "Ciclo for # 2\n",
      "Ciclo for # 3\n",
      "Ciclo for # 4\n",
      "Ciclo for # 5\n",
      "Ciclo while #: 3\n",
      "Ciclo for # 1\n",
      "Ciclo for # 2\n",
      "Ciclo for # 3\n",
      "Ciclo for # 4\n",
      "Ciclo for # 5\n"
     ]
    }
   ],
   "source": [
    "ciclosfor=5\n",
    "cicloswhile=3\n",
    "clwhile=1\n",
    "while clwhile<=cicloswhile:\n",
    "    print(\"Ciclo while #:\", clwhile)\n",
    "    clwhile +=1\n",
    "    for clfor in range(0,ciclosfor):\n",
    "        print(\"Ciclo for #\", clfor+1)\n",
    "        clfor += 1\n"
   ]
  },
  {
   "attachments": {},
   "cell_type": "markdown",
   "metadata": {},
   "source": [
    "8) Crear un ciclo while dentro de un ciclo for"
   ]
  },
  {
   "cell_type": "code",
   "execution_count": 39,
   "metadata": {},
   "outputs": [
    {
     "name": "stdout",
     "output_type": "stream",
     "text": [
      "Ciclo for # 1\n",
      "Ciclo while #: 1\n",
      "Ciclo while #: 2\n",
      "Ciclo while #: 3\n",
      "Ciclo while #: 4\n",
      "Ciclo while #: 5\n",
      "Ciclo for # 2\n",
      "Ciclo while #: 1\n",
      "Ciclo while #: 2\n",
      "Ciclo while #: 3\n",
      "Ciclo while #: 4\n",
      "Ciclo while #: 5\n",
      "Ciclo for # 3\n",
      "Ciclo while #: 1\n",
      "Ciclo while #: 2\n",
      "Ciclo while #: 3\n",
      "Ciclo while #: 4\n",
      "Ciclo while #: 5\n"
     ]
    }
   ],
   "source": [
    "ciclosfor=3\n",
    "cicloswhile=5\n",
    "for clfor in range(0,ciclosfor):\n",
    "    print(\"Ciclo for #\", clfor+1)\n",
    "    clfor += 1\n",
    "    clwhile=1\n",
    "    while clwhile<=cicloswhile:\n",
    "        print(\"Ciclo while #:\", clwhile)\n",
    "        clwhile +=1\n",
    "\n",
    "        "
   ]
  },
  {
   "attachments": {},
   "cell_type": "markdown",
   "metadata": {},
   "source": [
    "9) Imprimir los números primos existentes entre 0 y 30"
   ]
  },
  {
   "cell_type": "code",
   "execution_count": 53,
   "metadata": {},
   "outputs": [
    {
     "name": "stdout",
     "output_type": "stream",
     "text": [
      "0\n",
      "1\n",
      "2\n",
      "3\n",
      "5\n",
      "7\n",
      "11\n",
      "13\n",
      "17\n",
      "19\n",
      "23\n",
      "29\n",
      "ciclos usados 378\n"
     ]
    }
   ],
   "source": [
    "numeros =list(range(0,30))\n",
    "ciclos1 = 0\n",
    "for x in numeros:\n",
    "    div = 0\n",
    "    for i in range(2,x):\n",
    "        ciclos1 +=1\n",
    "        if x%i==0:\n",
    "            div +=1\n",
    "    if div==0:\n",
    "        print(x)\n",
    "print('ciclos usados',ciclos1)\n",
    "    \n"
   ]
  },
  {
   "attachments": {},
   "cell_type": "markdown",
   "metadata": {},
   "source": [
    "10) ¿Se puede mejorar el proceso del punto 9? Utilizar las sentencias break y/ó continue para tal fin"
   ]
  },
  {
   "cell_type": "code",
   "execution_count": 56,
   "metadata": {},
   "outputs": [
    {
     "name": "stdout",
     "output_type": "stream",
     "text": [
      "0\n",
      "1\n",
      "2\n",
      "3\n",
      "5\n",
      "7\n",
      "11\n",
      "13\n",
      "17\n",
      "19\n",
      "23\n",
      "29\n",
      "ciclos usados 134\n",
      "Porcentaje optimizado 64.55026455026456 %\n"
     ]
    }
   ],
   "source": [
    "numeros =list(range(0,30))\n",
    "ciclos = 0\n",
    "for x in numeros:\n",
    "    primo = True\n",
    "    for i in range(2,x):\n",
    "        ciclos +=1\n",
    "        if x%i==0:\n",
    "            primo = False\n",
    "            break\n",
    "    if primo:\n",
    "        print(x)"
   ]
  },
  {
   "attachments": {},
   "cell_type": "markdown",
   "metadata": {},
   "source": [
    "11) En los puntos 9 y 10, se diseño un código que encuentra números primos y además se lo optimizó. ¿Es posible saber en qué medida se optimizó?"
   ]
  },
  {
   "cell_type": "code",
   "execution_count": 57,
   "metadata": {},
   "outputs": [
    {
     "name": "stdout",
     "output_type": "stream",
     "text": [
      "ciclos usados 134\n",
      "Porcentaje optimizado 64.55026455026456%\n"
     ]
    }
   ],
   "source": [
    "print('ciclos usados',ciclos)\n",
    "print('Porcentaje optimizado ' + str((1-ciclos/ciclos1)*100) + '%') #En el resulto se dice le porcentaje de tiempo con break respecto al que no va con break, en realidad el optimizado es 100%-el con break."
   ]
  },
  {
   "attachments": {},
   "cell_type": "markdown",
   "metadata": {},
   "source": [
    "12) Aplicando continue, armar un ciclo while que solo imprima los valores divisibles por 12, dentro del rango de números de 100 a 300"
   ]
  },
  {
   "cell_type": "code",
   "execution_count": 59,
   "metadata": {},
   "outputs": [
    {
     "name": "stdout",
     "output_type": "stream",
     "text": [
      "108\n",
      "120\n",
      "132\n",
      "144\n",
      "156\n",
      "168\n",
      "180\n",
      "192\n",
      "204\n",
      "216\n",
      "228\n",
      "240\n",
      "252\n",
      "264\n",
      "276\n",
      "288\n",
      "300\n"
     ]
    }
   ],
   "source": [
    "numeros=list(range(100,301))\n",
    "for x in numeros:\n",
    "    if x%12!=0:\n",
    "        continue\n",
    "    print(x)\n"
   ]
  },
  {
   "attachments": {},
   "cell_type": "markdown",
   "metadata": {},
   "source": [
    "13) Utilizar la función **input()** que permite hacer ingresos por teclado, para encontrar números primos y dar la opción al usario de buscar el siguiente"
   ]
  },
  {
   "cell_type": "code",
   "execution_count": 69,
   "metadata": {},
   "outputs": [
    {
     "name": "stdout",
     "output_type": "stream",
     "text": [
      "El número 4 no es primo\n",
      "El siguiente número primo es 5\n",
      "Adios gracias por ussar el servicio de buscador\n"
     ]
    }
   ],
   "source": [
    "numero = int(input())\n",
    "primo = True\n",
    "for i in range(2,numero):\n",
    "    if numero%i==0:\n",
    "        primo = False\n",
    "        break\n",
    "if primo:\n",
    "    print('El número', numero, 'es primo')\n",
    "else:\n",
    "    print('El número', numero, 'no es primo')\n",
    "select = input('Desea buscar el siguiente numero primo (Y/N) >')\n",
    "if select=='Y':\n",
    "    newprimo=False\n",
    "    while newprimo==False:\n",
    "        numero += 1\n",
    "        primo = True\n",
    "        for i in range(2,numero):\n",
    "            if numero%i==0:\n",
    "                primo = False\n",
    "                break\n",
    "        if primo:\n",
    "            print('El siguiente número primo es', numero)\n",
    "            print('Adios gracias por ussar el servicio de buscador')\n",
    "            break\n",
    "        #else:\n",
    "            #print('El número', numero, 'no es primo')\n",
    "else:\n",
    "    print('Adios')"
   ]
  },
  {
   "attachments": {},
   "cell_type": "markdown",
   "metadata": {},
   "source": [
    "14) Crear un ciclo while que encuentre dentro del rango de 100 a 300 el primer número divisible por 3 y además múltiplo de 6"
   ]
  },
  {
   "cell_type": "code",
   "execution_count": 72,
   "metadata": {},
   "outputs": [
    {
     "name": "stdout",
     "output_type": "stream",
     "text": [
      "el numero es 102\n"
     ]
    }
   ],
   "source": [
    "num = 100\n",
    "while num<=300:\n",
    "    if (num%3==0 and num%6==0):\n",
    "        print('el numero es', num)\n",
    "        break\n",
    "    else:\n",
    "        num += 1\n"
   ]
  }
 ],
 "metadata": {
  "kernelspec": {
   "display_name": "Python 3.11.5 64-bit",
   "language": "python",
   "name": "python3"
  },
  "language_info": {
   "codemirror_mode": {
    "name": "ipython",
    "version": 3
   },
   "file_extension": ".py",
   "mimetype": "text/x-python",
   "name": "python",
   "nbconvert_exporter": "python",
   "pygments_lexer": "ipython3",
   "version": "3.11.5"
  },
  "vscode": {
   "interpreter": {
    "hash": "de4e5ffb18baef109adc7b00874c346e3f2885085b3cb8a27ff03290ef0ee957"
   }
  }
 },
 "nbformat": 4,
 "nbformat_minor": 4
}
